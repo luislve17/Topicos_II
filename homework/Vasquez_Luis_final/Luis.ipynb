{
 "cells": [
  {
   "cell_type": "markdown",
   "metadata": {},
   "source": [
    "# Machine Learning\n",
    "## Student: Vasquez Espinoza, Luis\n",
    "### Final exam\n",
    "___"
   ]
  },
  {
   "cell_type": "markdown",
   "metadata": {},
   "source": [
    "## 1.  (10 pts.)  From this paper:"
   ]
  },
  {
   "cell_type": "markdown",
   "metadata": {},
   "source": [
    "### (a)  (2 pts.)  Try to reproduce Figure 8 and make some comments from it"
   ]
  },
  {
   "cell_type": "code",
   "execution_count": 152,
   "metadata": {},
   "outputs": [],
   "source": [
    "import numpy as np\n",
    "import pandas as pd\n",
    "import matplotlib.pyplot as plt\n",
    "#import warnings\n",
    "\n",
    "#warnings.simplefilter(\"ignore\")"
   ]
  },
  {
   "cell_type": "code",
   "execution_count": 153,
   "metadata": {},
   "outputs": [],
   "source": [
    "# Creating the data\n",
    "TOTAL = 10000\n",
    "np.random.seed(17)\n",
    "x = np.random.uniform(0,1,(TOTAL, 20, ), )"
   ]
  },
  {
   "cell_type": "code",
   "execution_count": 154,
   "metadata": {},
   "outputs": [
    {
     "name": "stdout",
     "output_type": "stream",
     "text": [
      "Percent of +1 values: 80.0%\n",
      "Percent of -1 values: 20.0%\n"
     ]
    }
   ],
   "source": [
    "df = pd.DataFrame(x, columns=[\"x_{}\".format(i+1) for i in range(x.shape[1])])\n",
    "df['target'] = 1\n",
    "change_indices = df.sample(int(TOTAL*0.2), random_state=17).index\n",
    "df.loc[change_indices, ['target']] = -1\n",
    "\n",
    "print(\"Percent of +1 values: {}%\".format( 100*len(df[df['target'] == 1]) / len(df) ))\n",
    "print(\"Percent of -1 values: {}%\".format( 100*len(df[df['target'] == -1]) / len(df) ))"
   ]
  },
  {
   "cell_type": "code",
   "execution_count": 155,
   "metadata": {},
   "outputs": [],
   "source": [
    "from sklearn.ensemble import AdaBoostClassifier\n",
    "from sklearn.tree import DecisionTreeClassifier\n",
    "from sklearn.metrics import zero_one_loss"
   ]
  },
  {
   "cell_type": "code",
   "execution_count": 156,
   "metadata": {},
   "outputs": [],
   "source": [
    "x = df.loc[:, df.columns != 'target']\n",
    "y = df.loc[:, 'target']\n",
    "\n",
    "def adaboost_tree(x, y):\n",
    "    ada = AdaBoostClassifier(DecisionTreeClassifier(max_depth=3, min_samples_leaf=1, random_state=17),\n",
    "                             n_estimators=1000,\n",
    "                             learning_rate=1.1, \n",
    "                             random_state=17,\n",
    "                             algorithm=\"SAMME.R\")\n",
    "    \n",
    "    ada.fit(x, y)\n",
    "    return ada"
   ]
  },
  {
   "cell_type": "code",
   "execution_count": 157,
   "metadata": {},
   "outputs": [],
   "source": [
    "ada = adaboost_tree(x, y)"
   ]
  },
  {
   "cell_type": "code",
   "execution_count": 158,
   "metadata": {},
   "outputs": [
    {
     "data": {
      "text/plain": [
       "<matplotlib.lines.Line2D at 0x7feef38b05d0>"
      ]
     },
     "execution_count": 158,
     "metadata": {},
     "output_type": "execute_result"
    },
    {
     "data": {
      "image/png": "[encoded data removed]",
      "text/plain": [
       "<Figure size 432x360 with 1 Axes>"
      ]
     },
     "metadata": {
      "needs_background": "light"
     },
     "output_type": "display_data"
    }
   ],
   "source": [
    "bayes_diff = []\n",
    "\n",
    "for i, y_pred in enumerate(ada.staged_predict(x)):\n",
    "    unique, counts = np.unique( np.array(y_pred*y), return_counts=True)\n",
    "    classes_count = {1:0, -1:0}\n",
    "    classes_count.update(dict(zip(unique, counts)))\n",
    "    bayes_diff.append( classes_count[-1]/sum(classes_count.values()))\n",
    "\n",
    "plt.figure(figsize=(6,5))\n",
    "plt.plot(bayes_diff, c='#000000')\n",
    "plt.xlabel('Iterations')\n",
    "plt.ylabel('% Different from Bayes')\n",
    "\n",
    "plt.axhline(0.2, c=\"b\") # 20% for maximum diff. percentual error "
   ]
  },
  {
   "cell_type": "markdown",
   "metadata": {},
   "source": [
    "### 1.a. Comment:\n",
    "The _AdaBoostClassifier_ actually wraps the decission tree in order to mange the unbalanced training dataset, converging to a low Bayes diff. percent after a while.  The first few iterations actually manage to lose the noise present in the data, and eventually manages to classify correctly the binary class."
   ]
  },
  {
   "cell_type": "markdown",
   "metadata": {},
   "source": [
    "### (c)  (2 pts.)  Try to reproduce Figure 10 and make some comments from it."
   ]
  },
  {
   "cell_type": "code",
   "execution_count": 159,
   "metadata": {},
   "outputs": [
    {
     "name": "stdout",
     "output_type": "stream",
     "text": [
      "Percent of +1 values: 80.0%\n",
      "Percent of -1 values: 20.0%\n"
     ]
    }
   ],
   "source": [
    "# Creating the data\n",
    "TOTAL = 10000\n",
    "np.random.seed(17)\n",
    "x = np.random.uniform(0,1,(TOTAL, 20, ), )\n",
    "\n",
    "df_test = pd.DataFrame(x, columns=[\"x_{}\".format(i+1) for i in range(x.shape[1])])\n",
    "df_test['target'] = 1\n",
    "change_indices = df_test.sample(int(TOTAL*0.2), random_state=17).index\n",
    "df_test.loc[change_indices, ['target']] = -1\n",
    "\n",
    "x_test = df_test.loc[:, df_test.columns != 'target']\n",
    "y_test = df_test.loc[:, 'target']\n",
    "\n",
    "print(\"Percent of +1 values: {}%\".format( 100*len(df_test[df_test['target'] == 1]) / len(df_test) ))\n",
    "print(\"Percent of -1 values: {}%\".format( 100*len(df_test[df_test['target'] == -1]) / len(df_test) ))"
   ]
  },
  {
   "cell_type": "code",
   "execution_count": 160,
   "metadata": {},
   "outputs": [
    {
     "data": {
      "text/plain": [
       "<matplotlib.lines.Line2D at 0x7feef375b690>"
      ]
     },
     "execution_count": 160,
     "metadata": {},
     "output_type": "execute_result"
    },
    {
     "data": {
      "image/png": "[encoded data removed]",
      "text/plain": [
       "<Figure size 432x360 with 1 Axes>"
      ]
     },
     "metadata": {
      "needs_background": "light"
     },
     "output_type": "display_data"
    }
   ],
   "source": [
    "bayes_diff = []\n",
    "\n",
    "for i, y_pred in enumerate(ada.staged_predict(x_test)):\n",
    "    unique, counts = np.unique( np.array(y_pred*y_test), return_counts=True)\n",
    "    classes_count = {1:0, -1:0}\n",
    "    classes_count.update(dict(zip(unique, counts)))\n",
    "    bayes_diff.append( classes_count[-1]/sum(classes_count.values()))\n",
    "\n",
    "plt.figure(figsize=(6,5))\n",
    "plt.plot(bayes_diff, c='#000000')\n",
    "plt.xlabel('Iterations')\n",
    "plt.ylabel('% Different from Bayes')\n",
    "\n",
    "plt.axhline(0.2, c=\"b\") # 20% for maximum diff. percentual error "
   ]
  },
  {
   "cell_type": "markdown",
   "metadata": {},
   "source": [
    "### 1.c. Comment:\n",
    "We actually see a similar performance on a testing dataset, this being because of the fixed random state on '17' over every data generating call and modeling execution. The model still predicts accurately over the testing samples, but no further info is saveable from this experiment."
   ]
  },
  {
   "cell_type": "markdown",
   "metadata": {},
   "source": [
    "___\n",
    "___\n",
    "___\n",
    "## 2.  (5 pts.)  From this paper:"
   ]
  },
  {
   "cell_type": "markdown",
   "metadata": {},
   "source": [
    "### (a)  (2 pts.)  Try to reproduce the first row from the three ones of Table 1, i.e.,OriginalModel row."
   ]
  },
  {
   "cell_type": "code",
   "execution_count": 161,
   "metadata": {},
   "outputs": [],
   "source": [
    "# Needed libraries\n",
    "import matplotlib.pyplot as plt\n",
    "import numpy as np\n",
    "from sklearn.datasets import fetch_openml\n",
    "from sklearn.neural_network import MLPClassifier"
   ]
  },
  {
   "cell_type": "code",
   "execution_count": 162,
   "metadata": {},
   "outputs": [],
   "source": [
    "# Loading data\n",
    "x, y = fetch_openml('mnist_784', version=1, return_X_y=True)\n",
    "x = x / 255."
   ]
  },
  {
   "cell_type": "code",
   "execution_count": 163,
   "metadata": {},
   "outputs": [
    {
     "data": {
      "text/plain": [
       "<matplotlib.image.AxesImage at 0x7feef31c9650>"
      ]
     },
     "execution_count": 163,
     "metadata": {},
     "output_type": "execute_result"
    },
    {
     "data": {
      "image/png": "[encoded data removed]",
      "text/plain": [
       "<Figure size 432x288 with 1 Axes>"
      ]
     },
     "metadata": {
      "needs_background": "light"
     },
     "output_type": "display_data"
    }
   ],
   "source": [
    "# Number example\n",
    "plt.imshow(x[22].reshape(28,28))"
   ]
  },
  {
   "cell_type": "code",
   "execution_count": 164,
   "metadata": {},
   "outputs": [],
   "source": [
    "# Splitting data in training (60k) and testing (10k)\n",
    "x_train, x_test = x[:60000], x[60000:]\n",
    "y_train, y_test = y[:60000], y[60000:]"
   ]
  },
  {
   "cell_type": "code",
   "execution_count": 165,
   "metadata": {},
   "outputs": [
    {
     "name": "stdout",
     "output_type": "stream",
     "text": [
      "Epoch:0 -- DONE!\n",
      "Epoch:1 -- DONE!\n",
      "Epoch:2 -- DONE!\n",
      "Epoch:3 -- DONE!\n",
      "Epoch:4 -- DONE!\n",
      "Epoch:5 -- DONE!\n"
     ]
    }
   ],
   "source": [
    "total_epochs = 6\n",
    "batch_size = 100\n",
    "l_rate = 0.005\n",
    "scores_test = []\n",
    "\n",
    "mlp = MLPClassifier(hidden_layer_sizes=(50,), verbose=0, random_state=17, learning_rate_init=l_rate)\n",
    "\n",
    "for epoch in range(total_epochs):\n",
    "    print(\"Epoch:{}\".format(epoch), end='')\n",
    "\n",
    "    cont = 0\n",
    "    while True:\n",
    "        #if cont%10 == 0: print(cont*batch_size,\":\", (cont+1)*batch_size)\n",
    "        mlp.partial_fit(x_train[cont*batch_size:(cont+1)*batch_size],\n",
    "                        y_train[cont*batch_size:(cont+1)*batch_size],\n",
    "                        classes=np.unique(y))\n",
    "        cont += 1\n",
    "        \n",
    "        scores_test.append(mlp.score(x_test, y_test))\n",
    "        \n",
    "        if (cont+1)*batch_size >= x_train.shape[0]:\n",
    "            break\n",
    "            \n",
    "    print(\" -- DONE!\")"
   ]
  },
  {
   "cell_type": "code",
   "execution_count": 166,
   "metadata": {},
   "outputs": [
    {
     "data": {
      "text/html": [
       "\n",
       "<table style=\"width:60%\">\n",
       "  <tr>\n",
       "    <th>batch_size</th>\n",
       "    <th>learning_rate</th>\n",
       "    <th>number_of_epochs</th>\n",
       "    <th>Model</th>\n",
       "    <th>accuracy</th>\n",
       "  </tr>\n",
       "  <tr>\n",
       "    <th>auto</th>\n",
       "    <th>0.0001</th>\n",
       "    <th>10</th>\n",
       "    <th>original</th>\n",
       "    <th>0.9661</th>\n",
       "  </tr>\n",
       "</table>\n"
      ],
      "text/plain": [
       "<IPython.core.display.HTML object>"
      ]
     },
     "metadata": {},
     "output_type": "display_data"
    }
   ],
   "source": [
    "from IPython.core.display import display, HTML\n",
    "\n",
    "display(HTML(\"\"\"\n",
    "<table style=\"width:60%\">\n",
    "  <tr>\n",
    "    <th>batch_size</th>\n",
    "    <th>learning_rate</th>\n",
    "    <th>number_of_epochs</th>\n",
    "    <th>Model</th>\n",
    "    <th>accuracy</th>\n",
    "  </tr>\n",
    "  <tr>\n",
    "    <th>{}</th>\n",
    "    <th>{}</th>\n",
    "    <th>{}</th>\n",
    "    <th>{}</th>\n",
    "    <th>{}</th>\n",
    "  </tr>\n",
    "</table>\n",
    "\"\"\".format(mlp.batch_size, mlp.alpha, mlp.n_iter_no_change, \"original\" ,mlp.score(x_test, y_test))))"
   ]
  },
  {
   "cell_type": "markdown",
   "metadata": {},
   "source": [
    "### (b)  (2 pts.)  Try to reproduce Figure 5"
   ]
  },
  {
   "cell_type": "code",
   "execution_count": 167,
   "metadata": {},
   "outputs": [
    {
     "data": {
      "text/plain": [
       "[<matplotlib.lines.Line2D at 0x7feed8e6d890>]"
      ]
     },
     "execution_count": 167,
     "metadata": {},
     "output_type": "execute_result"
    },
    {
     "data": {
      "image/png": "[encoded data removed]",
      "text/plain": [
       "<Figure size 432x288 with 1 Axes>"
      ]
     },
     "metadata": {
      "needs_background": "light"
     },
     "output_type": "display_data"
    }
   ],
   "source": [
    "plt.plot(mlp.loss_curve_)"
   ]
  },
  {
   "cell_type": "markdown",
   "metadata": {},
   "source": [
    "### (c)  (1 pt.)  Make some comments from your findings."
   ]
  },
  {
   "cell_type": "markdown",
   "metadata": {},
   "source": [
    "As the above plot shows, the loss curve improves the evaluation of the neural model over time, eventho the loss values are evaluated with test data. So not only the model actually learns from the training process, but also develops robustness and generalization over any data alike."
   ]
  }
 ],
 "metadata": {
  "kernelspec": {
   "display_name": "venv",
   "language": "python",
   "name": "venv"
  },
  "language_info": {
   "codemirror_mode": {
    "name": "ipython",
    "version": 3
   },
   "file_extension": ".py",
   "mimetype": "text/x-python",
   "name": "python",
   "nbconvert_exporter": "python",
   "pygments_lexer": "ipython3",
   "version": "3.7.4"
  }
 },
 "nbformat": 4,
 "nbformat_minor": 4
}
